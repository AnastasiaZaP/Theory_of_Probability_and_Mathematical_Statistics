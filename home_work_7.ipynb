{
 "cells": [
  {
   "cell_type": "code",
   "execution_count": 62,
   "metadata": {},
   "outputs": [
    {
     "data": {
      "text/plain": [
       "array([ 35,  45, 190, 200,  40,  70,  54, 150, 120, 110])"
      ]
     },
     "execution_count": 62,
     "metadata": {},
     "output_type": "execute_result"
    }
   ],
   "source": [
    "# 1. Даны значения величины заработной платы заемщиков банка (zp) и значения их поведенческого кредитного скоринга (ks): \n",
    "# zp = [35, 45, 190, 200, 40, 70, 54, 150, 120, 110], ks = [401, 574, 874, 919, 459, 739, 653, 902, 746, 832]. \n",
    "# Используя математические операции, посчитать коэффициенты линейной регрессии, приняв за X заработную плату \n",
    "# (то есть, zp - признак), а за y - значения скорингового балла (то есть, ks - целевая переменная). \n",
    "# Произвести расчет как с использованием intercept, так и без.\n",
    "import numpy as np\n",
    "X = np.array([35, 45, 190, 200, 40, 70, 54, 150, 120, 110])\n",
    "X"
   ]
  },
  {
   "cell_type": "code",
   "execution_count": 63,
   "metadata": {},
   "outputs": [
    {
     "data": {
      "text/plain": [
       "array([401, 574, 874, 919, 459, 739, 653, 902, 746, 832])"
      ]
     },
     "execution_count": 63,
     "metadata": {},
     "output_type": "execute_result"
    }
   ],
   "source": [
    "y = np.array([401, 574, 874, 919, 459, 739, 653, 902, 746, 832])\n",
    "y"
   ]
  },
  {
   "cell_type": "code",
   "execution_count": 64,
   "metadata": {},
   "outputs": [
    {
     "data": {
      "text/plain": [
       "2.620538882402765"
      ]
     },
     "execution_count": 64,
     "metadata": {},
     "output_type": "execute_result"
    }
   ],
   "source": [
    "b = (np.mean(X*y) - np.mean(X)*np.mean(y))/(np.mean(X**2)-np.mean(X)**2)\n",
    "b"
   ]
  },
  {
   "cell_type": "code",
   "execution_count": 65,
   "metadata": {},
   "outputs": [
    {
     "data": {
      "text/plain": [
       "444.1773573243596"
      ]
     },
     "execution_count": 65,
     "metadata": {},
     "output_type": "execute_result"
    }
   ],
   "source": [
    "a = np.mean(y) - b*np.mean(X)\n",
    "a"
   ]
  },
  {
   "cell_type": "code",
   "execution_count": 66,
   "metadata": {},
   "outputs": [
    {
     "data": {
      "text/plain": [
       "array([535.89621821, 562.10160703, 942.07974498, 968.2851338 ,\n",
       "       548.99891262, 627.61507909, 585.68645697, 837.25818968,\n",
       "       758.64202321, 732.43663439])"
      ]
     },
     "execution_count": 66,
     "metadata": {},
     "output_type": "execute_result"
    }
   ],
   "source": [
    "y_hat = a + b*X\n",
    "y_hat"
   ]
  },
  {
   "cell_type": "code",
   "execution_count": 67,
   "metadata": {},
   "outputs": [
    {
     "data": {
      "text/plain": [
       "array([401, 574, 874, 919, 459, 739, 653, 902, 746, 832])"
      ]
     },
     "execution_count": 67,
     "metadata": {},
     "output_type": "execute_result"
    }
   ],
   "source": [
    "y"
   ]
  },
  {
   "cell_type": "code",
   "execution_count": 68,
   "metadata": {},
   "outputs": [
    {
     "data": {
      "image/png": "[encoded data removed]",
      "text/plain": [
       "<Figure size 432x288 with 1 Axes>"
      ]
     },
     "metadata": {
      "needs_background": "light"
     },
     "output_type": "display_data"
    }
   ],
   "source": [
    "import matplotlib.pyplot as plt\n",
    "%matplotlib inline\n",
    "plt.scatter(X,y)\n",
    "plt.plot(X,a + b*X)\n",
    "plt.show()"
   ]
  },
  {
   "cell_type": "code",
   "execution_count": 69,
   "metadata": {},
   "outputs": [
    {
     "data": {
      "text/plain": [
       "6470.414201176658"
      ]
     },
     "execution_count": 69,
     "metadata": {},
     "output_type": "execute_result"
    }
   ],
   "source": [
    "n = len(y_hat)\n",
    "mse = ((y - y_hat)**2).sum()/n\n",
    "mse"
   ]
  },
  {
   "cell_type": "code",
   "execution_count": 70,
   "metadata": {},
   "outputs": [
    {
     "data": {
      "text/plain": [
       "array([[ 35],\n",
       "       [ 45],\n",
       "       [190],\n",
       "       [200],\n",
       "       [ 40],\n",
       "       [ 70],\n",
       "       [ 54],\n",
       "       [150],\n",
       "       [120],\n",
       "       [110]])"
      ]
     },
     "execution_count": 70,
     "metadata": {},
     "output_type": "execute_result"
    }
   ],
   "source": [
    "# С использованием intercept\n",
    "X = X.reshape((10,1))\n",
    "X"
   ]
  },
  {
   "cell_type": "code",
   "execution_count": 71,
   "metadata": {},
   "outputs": [
    {
     "data": {
      "text/plain": [
       "array([[401],\n",
       "       [574],\n",
       "       [874],\n",
       "       [919],\n",
       "       [459],\n",
       "       [739],\n",
       "       [653],\n",
       "       [902],\n",
       "       [746],\n",
       "       [832]])"
      ]
     },
     "execution_count": 71,
     "metadata": {},
     "output_type": "execute_result"
    }
   ],
   "source": [
    "y = y.reshape((10,1))\n",
    "y"
   ]
  },
  {
   "cell_type": "code",
   "execution_count": 72,
   "metadata": {},
   "outputs": [
    {
     "data": {
      "text/plain": [
       "array([[  1.,  35.],\n",
       "       [  1.,  45.],\n",
       "       [  1., 190.],\n",
       "       [  1., 200.],\n",
       "       [  1.,  40.],\n",
       "       [  1.,  70.],\n",
       "       [  1.,  54.],\n",
       "       [  1., 150.],\n",
       "       [  1., 120.],\n",
       "       [  1., 110.]])"
      ]
     },
     "execution_count": 72,
     "metadata": {},
     "output_type": "execute_result"
    }
   ],
   "source": [
    "X = np.hstack([np.ones((10,1)),X])\n",
    "X"
   ]
  },
  {
   "cell_type": "code",
   "execution_count": 73,
   "metadata": {},
   "outputs": [
    {
     "data": {
      "text/plain": [
       "array([[444.17735732],\n",
       "       [  2.62053888]])"
      ]
     },
     "execution_count": 73,
     "metadata": {},
     "output_type": "execute_result"
    }
   ],
   "source": [
    "B = np.dot(np.linalg.inv(np.dot(X.T,X)),X.T@y)\n",
    "B"
   ]
  },
  {
   "cell_type": "code",
   "execution_count": 74,
   "metadata": {},
   "outputs": [
    {
     "data": {
      "text/plain": [
       "array([[ 35],\n",
       "       [ 45],\n",
       "       [190],\n",
       "       [200],\n",
       "       [ 40],\n",
       "       [ 70],\n",
       "       [ 54],\n",
       "       [150],\n",
       "       [120],\n",
       "       [110]])"
      ]
     },
     "execution_count": 74,
     "metadata": {},
     "output_type": "execute_result"
    }
   ],
   "source": [
    "# Без intercept\n",
    "X = np.array([35, 45, 190, 200, 40, 70, 54, 150, 120, 110])\n",
    "X = X.reshape((10,1))\n",
    "X"
   ]
  },
  {
   "cell_type": "code",
   "execution_count": 75,
   "metadata": {},
   "outputs": [
    {
     "data": {
      "text/plain": [
       "array([[401],\n",
       "       [574],\n",
       "       [874],\n",
       "       [919],\n",
       "       [459],\n",
       "       [739],\n",
       "       [653],\n",
       "       [902],\n",
       "       [746],\n",
       "       [832]])"
      ]
     },
     "execution_count": 75,
     "metadata": {},
     "output_type": "execute_result"
    }
   ],
   "source": [
    "y"
   ]
  },
  {
   "cell_type": "code",
   "execution_count": 76,
   "metadata": {},
   "outputs": [
    {
     "data": {
      "text/plain": [
       "array([[5.88982042]])"
      ]
     },
     "execution_count": 76,
     "metadata": {},
     "output_type": "execute_result"
    }
   ],
   "source": [
    "B = np.dot(np.linalg.inv(np.dot(X.T,X)),X.T@y)\n",
    "B"
   ]
  },
  {
   "cell_type": "code",
   "execution_count": 77,
   "metadata": {},
   "outputs": [
    {
     "data": {
      "text/plain": [
       "array([ 35,  45, 190, 200,  40,  70,  54, 150, 120, 110])"
      ]
     },
     "execution_count": 77,
     "metadata": {},
     "output_type": "execute_result"
    }
   ],
   "source": [
    "# 2. Посчитать коэффициент линейной регрессии при заработной плате (zp), используя градиентный спуск (без intercept).\n",
    "X = np.array([35, 45, 190, 200, 40, 70, 54, 150, 120, 110])\n",
    "X"
   ]
  },
  {
   "cell_type": "code",
   "execution_count": 78,
   "metadata": {},
   "outputs": [
    {
     "data": {
      "text/plain": [
       "array([401, 574, 874, 919, 459, 739, 653, 902, 746, 832])"
      ]
     },
     "execution_count": 78,
     "metadata": {},
     "output_type": "execute_result"
    }
   ],
   "source": [
    "y = np.array([401, 574, 874, 919, 459, 739, 653, 902, 746, 832])\n",
    "y"
   ]
  },
  {
   "cell_type": "code",
   "execution_count": 79,
   "metadata": {},
   "outputs": [],
   "source": [
    "def mse_(B1,y=y,X=X,n=10):\n",
    "    return np.sum((B1*X-y)**2)/n"
   ]
  },
  {
   "cell_type": "code",
   "execution_count": 80,
   "metadata": {},
   "outputs": [],
   "source": [
    "alpha = 1e-6\n",
    "B1 = 0.1\n",
    "n = 10"
   ]
  },
  {
   "cell_type": "code",
   "execution_count": 81,
   "metadata": {},
   "outputs": [
    {
     "name": "stdout",
     "output_type": "stream",
     "text": [
      "Iteration: 0, B1=0.25952808, mse=493237.7212546963\n",
      "Iteration: 20, B1=2.6698789606516935, mse=199352.96411174876\n",
      "Iteration: 40, B1=4.04834889855975, mse=103233.54824312925\n",
      "Iteration: 60, B1=4.836690291080364, mse=71796.25222021657\n",
      "Iteration: 80, B1=5.287539550879594, mse=61514.21323463749\n",
      "Iteration: 100, B1=5.54537842245223, mse=58151.31823171113\n",
      "Iteration: 120, B1=5.692835432193034, mse=57051.433003054815\n",
      "Iteration: 140, B1=5.777165500770666, mse=56691.69904907657\n",
      "Iteration: 160, B1=5.825393526544474, mse=56574.04266614384\n",
      "Iteration: 180, B1=5.852974939784972, mse=56535.56138215128\n",
      "Iteration: 200, B1=5.868748638669329, mse=56522.97550129376\n",
      "Iteration: 220, B1=5.877769553381888, mse=56518.85910026643\n",
      "Iteration: 240, B1=5.882928578088004, mse=56517.512769595625\n",
      "Iteration: 260, B1=5.885879003490128, mse=56517.072431964974\n",
      "Iteration: 280, B1=5.887566339866551, mse=56516.928412941146\n",
      "Iteration: 300, B1=5.888531320728348, mse=56516.88130936019\n",
      "Iteration: 320, B1=5.889083189387522, mse=56516.86590342786\n",
      "Iteration: 340, B1=5.889398800845774, mse=56516.86086468671\n",
      "Iteration: 360, B1=5.889579297764605, mse=56516.85921669088\n",
      "Iteration: 380, B1=5.889682523223808, mse=56516.85867768914\n",
      "Iteration: 400, B1=5.8897415574471985, mse=56516.85850140053\n",
      "Iteration: 420, B1=5.88977531888123, mse=56516.8584437427\n",
      "Iteration: 440, B1=5.8897946269090555, mse=56516.858424884835\n",
      "Iteration: 460, B1=5.8898056690922225, mse=56516.85841871711\n",
      "Iteration: 480, B1=5.889811984072197, mse=56516.85841669984\n",
      "Iteration: 500, B1=5.889815595583751, mse=56516.858416040064\n",
      "Iteration: 520, B1=5.889817660992628, mse=56516.85841582429\n",
      "Iteration: 540, B1=5.889818842191625, mse=56516.85841575372\n",
      "Iteration: 560, B1=5.889819517714565, mse=56516.858415730625\n",
      "Iteration: 580, B1=5.889819904043407, mse=56516.85841572308\n",
      "Iteration: 600, B1=5.889820124983314, mse=56516.85841572062\n",
      "Iteration: 620, B1=5.889820251337954, mse=56516.8584157198\n",
      "Iteration: 640, B1=5.889820323599662, mse=56516.85841571953\n",
      "Iteration: 660, B1=5.88982036492584, mse=56516.85841571945\n",
      "Iteration: 680, B1=5.889820388560115, mse=56516.85841571943\n",
      "Iteration: 700, B1=5.889820402076462, mse=56516.85841571941\n",
      "Iteration: 720, B1=5.889820409806407, mse=56516.8584157194\n",
      "Iteration: 740, B1=5.88982041422713, mse=56516.8584157194\n",
      "Iteration: 760, B1=5.889820416755325, mse=56516.85841571941\n",
      "Iteration: 780, B1=5.889820418201186, mse=56516.8584157194\n",
      "Iteration: 800, B1=5.88982041902807, mse=56516.8584157194\n",
      "Iteration: 820, B1=5.889820419500961, mse=56516.8584157194\n",
      "Iteration: 840, B1=5.8898204197714055, mse=56516.8584157194\n",
      "Iteration: 860, B1=5.889820419926073, mse=56516.8584157194\n",
      "Iteration: 880, B1=5.889820420014526, mse=56516.8584157194\n",
      "Iteration: 900, B1=5.889820420065112, mse=56516.85841571941\n",
      "Iteration: 920, B1=5.8898204200940425, mse=56516.85841571941\n",
      "Iteration: 940, B1=5.889820420110588, mse=56516.85841571941\n",
      "Iteration: 960, B1=5.889820420120048, mse=56516.8584157194\n",
      "Iteration: 980, B1=5.889820420125461, mse=56516.85841571941\n"
     ]
    }
   ],
   "source": [
    " for i in range (1000):\n",
    "     B1 -=alpha*(2/n)*np.sum((B1*X-y)*X)\n",
    "     if i%20==0:\n",
    "        print('Iteration: {i}, B1={B1}, mse={mse}'.format(i=i, B1=B1, mse=mse_(B1)))"
   ]
  },
  {
   "cell_type": "code",
   "execution_count": 82,
   "metadata": {},
   "outputs": [
    {
     "name": "stdout",
     "output_type": "stream",
     "text": [
      "Если сигма генеральной совокупности известна, используется функция Лапласа, а если нет - функция Стьюдента\n"
     ]
    }
   ],
   "source": [
    "# 3. В каких случаях для вычисления доверительных интервалов и проверки статистических гипотез используется \n",
    "# таблица значений функции Лапласа, а в каких - таблица критических точек распределения Стьюдента?\n",
    "print('Если сигма генеральной совокупности известна, используется функция Лапласа, а если нет - функция Стьюдента')"
   ]
  },
  {
   "cell_type": "code",
   "execution_count": 83,
   "metadata": {},
   "outputs": [
    {
     "data": {
      "text/plain": [
       "array([ 35,  45, 190, 200,  40,  70,  54, 150, 120, 110])"
      ]
     },
     "execution_count": 83,
     "metadata": {},
     "output_type": "execute_result"
    }
   ],
   "source": [
    "# *4. Произвести вычисления как в пункте 2, но с вычислением intercept. Учесть, что изменение коэффициентов \n",
    "# должно производиться на каждом шаге одновременно (то есть изменение одного коэффициента не должно влиять на изменение \n",
    "# другого во время одной итерации).\n",
    "X"
   ]
  },
  {
   "cell_type": "code",
   "execution_count": 84,
   "metadata": {},
   "outputs": [
    {
     "data": {
      "text/plain": [
       "array([401, 574, 874, 919, 459, 739, 653, 902, 746, 832])"
      ]
     },
     "execution_count": 84,
     "metadata": {},
     "output_type": "execute_result"
    }
   ],
   "source": [
    "y"
   ]
  },
  {
   "cell_type": "code",
   "execution_count": 85,
   "metadata": {},
   "outputs": [],
   "source": [
    "def mse_(B1,y=y,X=X,n=10):\n",
    "    return np.sum((B0+B1*X-y)**2)/n"
   ]
  },
  {
   "cell_type": "code",
   "execution_count": 86,
   "metadata": {},
   "outputs": [],
   "source": [
    "alpha = 5e-6\n",
    "B1 = 0.1\n",
    "B0 = 0.2\n",
    "n = 10"
   ]
  },
  {
   "cell_type": "code",
   "execution_count": 87,
   "metadata": {},
   "outputs": [
    {
     "name": "stdout",
     "output_type": "stream",
     "text": [
      "Iteration: 0, B0=0.2069956, B1=0.8974305064615999, mse=561.7815734617958\n",
      "Iteration: 350000, B0=261.46954485202065, B1=3.9653457509956693, mse=955576216.0350857\n",
      "Iteration: 700000, B0=368.98110584156524, B1=3.174015135651711, mse=1903150466.4698062\n",
      "Iteration: 1050000, B0=413.22916654614437, B1=2.848330671740555, mse=2387028909.4250364\n",
      "Iteration: 1400000, B0=431.44014644538595, B1=2.7142901481257526, mse=2602080219.309737\n",
      "Iteration: 1750000, B0=438.9351594156659, B1=2.6591236788531196, mse=2693281790.561786\n",
      "Iteration: 2100000, B0=442.0198489675377, B1=2.6364190575197433, mse=2731273521.3812385\n",
      "Iteration: 2450000, B0=443.28940109096317, B1=2.627074616291332, mse=2746986902.1831093\n",
      "Iteration: 2800000, B0=443.81190507943745, B1=2.6232287656784923, mse=2753467081.317775\n",
      "Iteration: 3150000, B0=444.02694974987025, B1=2.62164594584206, mse=2756136317.780715\n",
      "Iteration: 3500000, B0=444.1154547398805, B1=2.6209945116375777, mse=2757235259.335149\n",
      "Iteration: 3850000, B0=444.15188034970106, B1=2.620726403724641, mse=2757687609.5087156\n"
     ]
    }
   ],
   "source": [
    " for i in range (4000000):\n",
    "     B0 -=alpha*(2/n)*np.sum((B0+B1*X-y))\n",
    "     B1 -=alpha*(2/n)*np.sum((B0+B1*X-y)*X)\n",
    "     if i%350000==0:\n",
    "        print('Iteration: {i}, B0={B0}, B1={B1}, mse={mse}'.format(i=i, B0=B0, B1=B1, mse=mse_(B0,B1)))"
   ]
  },
  {
   "cell_type": "code",
   "execution_count": null,
   "metadata": {},
   "outputs": [],
   "source": []
  }
 ],
 "metadata": {
  "kernelspec": {
   "display_name": "Python 3",
   "language": "python",
   "name": "python3"
  },
  "language_info": {
   "codemirror_mode": {
    "name": "ipython",
    "version": 3
   },
   "file_extension": ".py",
   "mimetype": "text/x-python",
   "name": "python",
   "nbconvert_exporter": "python",
   "pygments_lexer": "ipython3",
   "version": "3.8.5"
  }
 },
 "nbformat": 4,
 "nbformat_minor": 4
}
