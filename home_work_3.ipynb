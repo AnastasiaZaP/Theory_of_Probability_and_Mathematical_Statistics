{
 "cells": [
  {
   "cell_type": "code",
   "execution_count": 30,
   "metadata": {},
   "outputs": [],
   "source": [
    "# 1. Даны значения зарплат из выборки выпускников: 100, 80, 75, 77, 89, 33, 45, 25, 65, 17, 30, 24, 57, 55, 70, 75, 65, 84, \n",
    "# 90, 150. Посчитать (желательно без использования статистических методов наподобие std, var, mean) среднее арифметическое, \n",
    "# среднее квадратичное отклонение, смещенную и несмещенную оценки дисперсий для данной выборки.\n",
    "import numpy as np\n",
    "import pandas as pd\n",
    "df = pd.DataFrame({'salary': [100, 80, 75, 77, 89, 33, 45, 25, 65, 17, 30, 24, 57, 55, 70, 75, 65, 84, 90, 150]})"
   ]
  },
  {
   "cell_type": "code",
   "execution_count": 31,
   "metadata": {},
   "outputs": [
    {
     "data": {
      "text/plain": [
       "65.3"
      ]
     },
     "execution_count": 31,
     "metadata": {},
     "output_type": "execute_result"
    }
   ],
   "source": [
    "# среднее арифметическое отклонение\n",
    "mean_salary = df['salary'].sum() / df['salary'].count()\n",
    "mean_salary"
   ]
  },
  {
   "cell_type": "code",
   "execution_count": 32,
   "metadata": {},
   "outputs": [
    {
     "data": {
      "text/plain": [
       "30.823854398825596"
      ]
     },
     "execution_count": 32,
     "metadata": {},
     "output_type": "execute_result"
    }
   ],
   "source": [
    "# среднее квадратичное отклонение\n",
    "salary_std = np.sqrt(((df['salary'] - df['salary'].mean())**2).sum() / df['salary'].count())\n",
    "salary_std"
   ]
  },
  {
   "cell_type": "code",
   "execution_count": 33,
   "metadata": {},
   "outputs": [
    {
     "data": {
      "text/plain": [
       "950.11"
      ]
     },
     "execution_count": 33,
     "metadata": {},
     "output_type": "execute_result"
    }
   ],
   "source": [
    "# смещенная дисперсия\n",
    "salary_variance_biased = ((df['salary'] - df['salary'].mean())**2).sum() / df['salary'].count()\n",
    "salary_variance_biased"
   ]
  },
  {
   "cell_type": "code",
   "execution_count": 34,
   "metadata": {},
   "outputs": [
    {
     "data": {
      "text/plain": [
       "1000.1157894736842"
      ]
     },
     "execution_count": 34,
     "metadata": {},
     "output_type": "execute_result"
    }
   ],
   "source": [
    "# несмещенная дисперсия\n",
    "salary_variance_unbiased  = ((df['salary'] - df['salary'].mean())**2).sum() / (df['salary'].count() - 1)\n",
    "salary_variance_unbiased "
   ]
  },
  {
   "cell_type": "code",
   "execution_count": 35,
   "metadata": {},
   "outputs": [
    {
     "name": "stdout",
     "output_type": "stream",
     "text": [
      "Ответ: среднее арифметическое отклонение = 65.3 , среднее квадратичное отклонение = 30.823854398825596 , смещенная дисперсия 950.11 , несмещенная дисперсия 1000.1157894736842\n"
     ]
    }
   ],
   "source": [
    "print('Ответ: среднее арифметическое отклонение =', mean_salary, ', среднее квадратичное отклонение =', salary_std,\n",
    "     ', смещенная дисперсия', salary_variance_biased, ', несмещенная дисперсия', salary_variance_unbiased)"
   ]
  },
  {
   "cell_type": "code",
   "execution_count": 36,
   "metadata": {},
   "outputs": [
    {
     "data": {
      "text/plain": [
       "0.12626262626262627"
      ]
     },
     "execution_count": 36,
     "metadata": {},
     "output_type": "execute_result"
    }
   ],
   "source": [
    "# 2. В первом ящике находится 8 мячей, из которых 5 - белые. Во втором ящике - 12 мячей, из которых 5 белых. \n",
    "# Из первого ящика вытаскивают случайным образом два мяча, из второго - 4. Какова вероятность того, что 3 мяча белые?\n",
    "from math import factorial\n",
    "def combinations(n, k):\n",
    "    return int(factorial(n) / (factorial(k) * factorial(n - k)))\n",
    "P1 = (combinations(5, 2)/combinations(8, 2)) * (combinations(5, 1) * combinations(7, 3)/combinations(12, 4))\n",
    "P1"
   ]
  },
  {
   "cell_type": "code",
   "execution_count": 37,
   "metadata": {},
   "outputs": [
    {
     "data": {
      "text/plain": [
       "0.22727272727272727"
      ]
     },
     "execution_count": 37,
     "metadata": {},
     "output_type": "execute_result"
    }
   ],
   "source": [
    "P2 = (combinations(5, 1) * combinations(3, 1)/combinations(8, 2)) * (combinations(5, 2) * combinations(7, 2)/combinations(12, 4))\n",
    "P2"
   ]
  },
  {
   "cell_type": "code",
   "execution_count": 38,
   "metadata": {},
   "outputs": [
    {
     "data": {
      "text/plain": [
       "0.01515151515151515"
      ]
     },
     "execution_count": 38,
     "metadata": {},
     "output_type": "execute_result"
    }
   ],
   "source": [
    "P3 = (combinations(3, 2)/combinations(8, 2)) * (combinations(5, 3) * combinations(7, 1)/combinations(12, 4))\n",
    "P3"
   ]
  },
  {
   "cell_type": "code",
   "execution_count": 39,
   "metadata": {},
   "outputs": [
    {
     "data": {
      "text/plain": [
       "0.3686868686868687"
      ]
     },
     "execution_count": 39,
     "metadata": {},
     "output_type": "execute_result"
    }
   ],
   "source": [
    "P4 = P1 + P2 + P3\n",
    "P4"
   ]
  },
  {
   "cell_type": "code",
   "execution_count": 40,
   "metadata": {},
   "outputs": [
    {
     "name": "stdout",
     "output_type": "stream",
     "text": [
      "Ответ: вероятность того, что 3 мяча белые, = 0.3686868686868687\n"
     ]
    }
   ],
   "source": [
    "print('Ответ: вероятность того, что 3 мяча белые, =', P4)"
   ]
  },
  {
   "cell_type": "code",
   "execution_count": 63,
   "metadata": {},
   "outputs": [
    {
     "data": {
      "text/plain": [
       "0.7666666666666666"
      ]
     },
     "execution_count": 63,
     "metadata": {},
     "output_type": "execute_result"
    }
   ],
   "source": [
    "# 3. На соревновании по биатлону один из трех спортсменов стреляет и попадает в мишень. Вероятность попадания для первого \n",
    "# спортсмена равна 0.9, для второго — 0.8, для третьего — 0.6. Найти вероятность того, что выстрел произведен: \n",
    "# a). первым спортсменом  \n",
    "# Полная вероятность, что мишень поражена\n",
    "P5 = 1/3 * 0.9 + 1/3 * 0.8 + 1/3 * 0.6\n",
    "P5"
   ]
  },
  {
   "cell_type": "code",
   "execution_count": 66,
   "metadata": {},
   "outputs": [
    {
     "data": {
      "text/plain": [
       "0.391304347826087"
      ]
     },
     "execution_count": 66,
     "metadata": {},
     "output_type": "execute_result"
    }
   ],
   "source": [
    "P6 = (1/3 * 0.9) / P5\n",
    "P6"
   ]
  },
  {
   "cell_type": "code",
   "execution_count": 67,
   "metadata": {},
   "outputs": [
    {
     "data": {
      "text/plain": [
       "0.3478260869565218"
      ]
     },
     "execution_count": 67,
     "metadata": {},
     "output_type": "execute_result"
    }
   ],
   "source": [
    "# б). вторым спортсменом\n",
    "P7 = (1/3 * 0.8) / P5\n",
    "P7"
   ]
  },
  {
   "cell_type": "code",
   "execution_count": 68,
   "metadata": {},
   "outputs": [
    {
     "data": {
      "text/plain": [
       "0.2608695652173913"
      ]
     },
     "execution_count": 68,
     "metadata": {},
     "output_type": "execute_result"
    }
   ],
   "source": [
    "# в). третьим спортсменом.\n",
    "P8 = (1/3 * 0.6) / P5\n",
    "P8"
   ]
  },
  {
   "cell_type": "code",
   "execution_count": 81,
   "metadata": {},
   "outputs": [
    {
     "name": "stdout",
     "output_type": "stream",
     "text": [
      "Ответ: вероятность того, что выстрел произведен первым спортсменом, = 0.391304347826087 , вероятность того, что выстрел произведен вторым спортсменом, = 0.3478260869565218 , вероятность того, что выстрел произведен третьим спортсменом, = 0.2608695652173913\n"
     ]
    }
   ],
   "source": [
    "print('Ответ: вероятность того, что выстрел произведен первым спортсменом, =', P6, \n",
    "      ', вероятность того, что выстрел произведен вторым спортсменом, =', P7, \n",
    "      ', вероятность того, что выстрел произведен третьим спортсменом, =', P8)"
   ]
  },
  {
   "cell_type": "code",
   "execution_count": 74,
   "metadata": {},
   "outputs": [
    {
     "data": {
      "text/plain": [
       "0.825"
      ]
     },
     "execution_count": 74,
     "metadata": {},
     "output_type": "execute_result"
    }
   ],
   "source": [
    "# 4. В университет на факультеты A и B поступило равное количество студентов, а на факультет C студентов поступило \n",
    "# столько же, сколько на A и B вместе. Вероятность того, что студент факультета A сдаст первую сессию, равна 0.8. \n",
    "# Для студента факультета B эта вероятность равна 0.7, а для студента факультета C - 0.9. Студент сдал первую сессию. \n",
    "# Какова вероятность, что он учится: a). на факультете A\n",
    "# Полная вероятность\n",
    "P9 = 1/4 * 0.8 + 1/4 * 0.7 + 1/2 * 0.9\n",
    "P9"
   ]
  },
  {
   "cell_type": "code",
   "execution_count": 75,
   "metadata": {},
   "outputs": [
    {
     "data": {
      "text/plain": [
       "0.24242424242424246"
      ]
     },
     "execution_count": 75,
     "metadata": {},
     "output_type": "execute_result"
    }
   ],
   "source": [
    "P10 = (1/4 * 0.8) / P9\n",
    "P10"
   ]
  },
  {
   "cell_type": "code",
   "execution_count": 76,
   "metadata": {},
   "outputs": [
    {
     "data": {
      "text/plain": [
       "0.21212121212121213"
      ]
     },
     "execution_count": 76,
     "metadata": {},
     "output_type": "execute_result"
    }
   ],
   "source": [
    "# б). на факультете B\n",
    "P11 = (1/4 * 0.7) / P9\n",
    "P11"
   ]
  },
  {
   "cell_type": "code",
   "execution_count": 77,
   "metadata": {},
   "outputs": [
    {
     "data": {
      "text/plain": [
       "0.5454545454545455"
      ]
     },
     "execution_count": 77,
     "metadata": {},
     "output_type": "execute_result"
    }
   ],
   "source": [
    "# в). на факультете C?\n",
    "P12 = (1/2 * 0.9) / P9\n",
    "P12"
   ]
  },
  {
   "cell_type": "code",
   "execution_count": 82,
   "metadata": {},
   "outputs": [
    {
     "name": "stdout",
     "output_type": "stream",
     "text": [
      "Ответ: вероятность, что студент учится на факультете А, = 0.24242424242424246 , вероятность, что студент учится на факультете В, = 0.21212121212121213 , вероятность, что студент учится на факультете С, = 0.5454545454545455\n"
     ]
    }
   ],
   "source": [
    "print('Ответ: вероятность, что студент учится на факультете А, =', P10, \n",
    "      ', вероятность, что студент учится на факультете В, =', P11, \n",
    "      ', вероятность, что студент учится на факультете С, =', P12)"
   ]
  },
  {
   "cell_type": "code",
   "execution_count": 95,
   "metadata": {},
   "outputs": [
    {
     "data": {
      "text/plain": [
       "0.005000000000000001"
      ]
     },
     "execution_count": 95,
     "metadata": {},
     "output_type": "execute_result"
    }
   ],
   "source": [
    "# 5. Устройство состоит из трех деталей. Для первой детали вероятность выйти из строя в первый месяц равна 0.1, \n",
    "# для второй - 0.2, для третьей - 0.25. Какова вероятность того, что в первый месяц выйдут из строя: \n",
    "# а). все детали\n",
    "P13 = 0.1 * 0.2 * 0.25\n",
    "P13"
   ]
  },
  {
   "cell_type": "code",
   "execution_count": 99,
   "metadata": {},
   "outputs": [
    {
     "data": {
      "text/plain": [
       "0.08000000000000002"
      ]
     },
     "execution_count": 99,
     "metadata": {},
     "output_type": "execute_result"
    }
   ],
   "source": [
    "# б). только две детали\n",
    "P14 = 0.1 * 0.2 * 0.75 + 0.1 * 0.8 * 0.25 + 0.9 * 0.2 * 0.25\n",
    "P14"
   ]
  },
  {
   "cell_type": "code",
   "execution_count": 100,
   "metadata": {},
   "outputs": [
    {
     "data": {
      "text/plain": [
       "0.45999999999999996"
      ]
     },
     "execution_count": 100,
     "metadata": {},
     "output_type": "execute_result"
    }
   ],
   "source": [
    "# в). хотя бы одна деталь\n",
    "P15 = 1 - 0.9 * 0.8 * 0.75\n",
    "P15"
   ]
  },
  {
   "cell_type": "code",
   "execution_count": 101,
   "metadata": {},
   "outputs": [
    {
     "data": {
      "text/plain": [
       "0.455"
      ]
     },
     "execution_count": 101,
     "metadata": {},
     "output_type": "execute_result"
    }
   ],
   "source": [
    "# г). от одной до двух деталей?\n",
    "P16 = 0.1 * 0.8 * 0.75 + 0.9 * 0.2 * 0.75 + 0.9 * 0.8 * 0.25 + P14\n",
    "P16"
   ]
  },
  {
   "cell_type": "code",
   "execution_count": 102,
   "metadata": {},
   "outputs": [
    {
     "name": "stdout",
     "output_type": "stream",
     "text": [
      "Ответ: вероятность того, что в первый месяц выйдут из строя все детали, = 0.005000000000000001 , вероятность того, что в первый месяц выйдут из строя только две детали, = 0.08000000000000002 , вероятность того, что в первый месяц выйдет из строя хотя бы одна деталь, = 0.45999999999999996 , вероятность того, что в первый месяц выйдут из строя от одной до двух деталей, = 0.455\n"
     ]
    }
   ],
   "source": [
    "print('Ответ: вероятность того, что в первый месяц выйдут из строя все детали, =', P13, \n",
    "      ', вероятность того, что в первый месяц выйдут из строя только две детали, =', P14,\n",
    "      ', вероятность того, что в первый месяц выйдет из строя хотя бы одна деталь, =', P15,\n",
    "      ', вероятность того, что в первый месяц выйдут из строя от одной до двух деталей, =', P16)"
   ]
  },
  {
   "cell_type": "code",
   "execution_count": null,
   "metadata": {},
   "outputs": [],
   "source": []
  }
 ],
 "metadata": {
  "kernelspec": {
   "display_name": "Python 3",
   "language": "python",
   "name": "python3"
  },
  "language_info": {
   "codemirror_mode": {
    "name": "ipython",
    "version": 3
   },
   "file_extension": ".py",
   "mimetype": "text/x-python",
   "name": "python",
   "nbconvert_exporter": "python",
   "pygments_lexer": "ipython3",
   "version": "3.8.5"
  }
 },
 "nbformat": 4,
 "nbformat_minor": 4
}
